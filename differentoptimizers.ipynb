{
  "nbformat": 4,
  "nbformat_minor": 0,
  "metadata": {
    "colab": {
      "name": "Untitled0.ipynb",
      "provenance": []
    },
    "kernelspec": {
      "name": "python3",
      "display_name": "Python 3"
    },
    "language_info": {
      "name": "python"
    }
  },
  "cells": [
    {
      "cell_type": "markdown",
      "metadata": {
        "id": "KM1KmsgJMFuV"
      },
      "source": [
        "**Here going to evaluate CNN with different activation functions and optimizers on CIFAR10**"
      ]
    },
    {
      "cell_type": "markdown",
      "metadata": {
        "id": "Jc3lL17hjNcB"
      },
      "source": [
        "Loading libraries"
      ]
    },
    {
      "cell_type": "code",
      "metadata": {
        "id": "1qkypAIniqQO"
      },
      "source": [
        "import tensorflow as tf\n",
        "from tensorflow.keras import datasets, layers, models\n",
        "import matplotlib.pyplot as plt\n",
        "import numpy as np"
      ],
      "execution_count": 1,
      "outputs": []
    },
    {
      "cell_type": "markdown",
      "metadata": {
        "id": "rnyhJyAMjpoy"
      },
      "source": [
        "Loading dataset into training set and testing set"
      ]
    },
    {
      "cell_type": "code",
      "metadata": {
        "id": "ptyqiI-7kZIO",
        "colab": {
          "base_uri": "https://localhost:8080/"
        },
        "outputId": "32867259-11e9-434d-fc8b-d0d2132fc7ae"
      },
      "source": [
        "data = datasets.cifar10.load_data()"
      ],
      "execution_count": 2,
      "outputs": [
        {
          "output_type": "stream",
          "name": "stdout",
          "text": [
            "Downloading data from https://www.cs.toronto.edu/~kriz/cifar-10-python.tar.gz\n",
            "170500096/170498071 [==============================] - 4s 0us/step\n",
            "170508288/170498071 [==============================] - 4s 0us/step\n"
          ]
        }
      ]
    },
    {
      "cell_type": "code",
      "metadata": {
        "id": "0wzHGSIvkdEe"
      },
      "source": [
        "(x_train, y_train), (x_test, y_test) = data"
      ],
      "execution_count": 3,
      "outputs": []
    },
    {
      "cell_type": "markdown",
      "metadata": {
        "id": "5WsvC0jJjyom"
      },
      "source": [
        "Checking shape and size of dataset"
      ]
    },
    {
      "cell_type": "code",
      "metadata": {
        "colab": {
          "base_uri": "https://localhost:8080/"
        },
        "id": "XuVZRl28j6Ve",
        "outputId": "f978dd12-8613-45fe-dfb7-6ecb30a507e4"
      },
      "source": [
        "x_train.shape"
      ],
      "execution_count": 4,
      "outputs": [
        {
          "output_type": "execute_result",
          "data": {
            "text/plain": [
              "(50000, 32, 32, 3)"
            ]
          },
          "metadata": {},
          "execution_count": 4
        }
      ]
    },
    {
      "cell_type": "code",
      "metadata": {
        "colab": {
          "base_uri": "https://localhost:8080/"
        },
        "id": "qszsb6MgjFRX",
        "outputId": "ab54ffaf-db44-4be9-e430-42c2816fcf3a"
      },
      "source": [
        "x_test.shape"
      ],
      "execution_count": 5,
      "outputs": [
        {
          "output_type": "execute_result",
          "data": {
            "text/plain": [
              "(10000, 32, 32, 3)"
            ]
          },
          "metadata": {},
          "execution_count": 5
        }
      ]
    },
    {
      "cell_type": "code",
      "metadata": {
        "colab": {
          "base_uri": "https://localhost:8080/",
          "height": 229
        },
        "id": "w-O8HSLHlP4Y",
        "outputId": "b2cb42fe-26fb-450d-b494-56d664441a0e"
      },
      "source": [
        "plt.figure(figsize=(25,3))\n",
        "plt.imshow(x_train[4])"
      ],
      "execution_count": 7,
      "outputs": [
        {
          "output_type": "execute_result",
          "data": {
            "text/plain": [
              "<matplotlib.image.AxesImage at 0x7f989e90c950>"
            ]
          },
          "metadata": {},
          "execution_count": 7
        },
        {
          "output_type": "display_data",
          "data": {
            "image/png": "[encoded data removed]",
            "text/plain": [
              "<Figure size 1800x216 with 1 Axes>"
            ]
          },
          "metadata": {
            "needs_background": "light"
          }
        }
      ]
    },
    {
      "cell_type": "markdown",
      "metadata": {
        "id": "xFE2VukBnkia"
      },
      "source": [
        "Normalizing values"
      ]
    },
    {
      "cell_type": "code",
      "metadata": {
        "id": "R7OOnELjnoJ_"
      },
      "source": [
        "x_train = x_train / 255.0\n",
        "x_test = x_test / 255.0"
      ],
      "execution_count": 8,
      "outputs": []
    },
    {
      "cell_type": "markdown",
      "metadata": {
        "id": "mNd9Q9qtuvGA"
      },
      "source": [
        "CNN"
      ]
    },
    {
      "cell_type": "markdown",
      "metadata": {
        "id": "OSbYloP3MorC"
      },
      "source": [
        "The convolution layer inputs with  32 * 32 (w*h) sized images (channel=3 (r,g,b))\n",
        "Intially a 32 filter is used and Relu is used as activation function over here. The dense layer contains 64 nodes and it is activated with 'relu' function. The final dense layer has 10 nodes and which is activated with 'softmax'."
      ]
    },
    {
      "cell_type": "code",
      "metadata": {
        "id": "FNp9Y40Anz6-"
      },
      "source": [
        "model_cnn = models.Sequential([\n",
        "        #cnn\n",
        "        layers.Conv2D(filters=32, kernel_size=(3,3), activation='relu', input_shape=(32,32,3)),\n",
        "        layers.MaxPool2D((2,2)),\n",
        "\n",
        "        layers.Conv2D(filters=64, kernel_size=(3,3), activation='relu'),\n",
        "        layers.MaxPool2D((2,2)),\n",
        "\n",
        "        #Dense\n",
        "\n",
        "        layers.Flatten(),\n",
        "        layers.Dense(64, activation='relu'),\n",
        "        layers.Dense(10, activation='softmax')             \n",
        "])"
      ],
      "execution_count": 9,
      "outputs": []
    },
    {
      "cell_type": "markdown",
      "metadata": {
        "id": "VQ_cjwwMOhx5"
      },
      "source": [
        "Optimization with Adam optimizer"
      ]
    },
    {
      "cell_type": "markdown",
      "metadata": {
        "id": "p8UlLQx9Oy6U"
      },
      "source": [
        "Here sparse categorical cross entropy is used for loss calculation. We can utilize categorical cross entropy if we applied 1-hot encoder"
      ]
    },
    {
      "cell_type": "code",
      "metadata": {
        "id": "KlEWe73xxwX_"
      },
      "source": [
        "model_cnn.compile(optimizer='adam',\n",
        "              loss='sparse_categorical_crossentropy',\n",
        "              metrics=['accuracy'])"
      ],
      "execution_count": 10,
      "outputs": []
    },
    {
      "cell_type": "markdown",
      "metadata": {
        "id": "ccEZMgqfQAN6"
      },
      "source": [
        "Fiting the model with training data "
      ]
    },
    {
      "cell_type": "code",
      "metadata": {
        "colab": {
          "base_uri": "https://localhost:8080/"
        },
        "id": "1Jccf9YgyP8D",
        "outputId": "6d1d5a7f-58ac-46d2-926f-317a20a10570"
      },
      "source": [
        "model_cnn.fit(x_train, y_train, epochs=10)"
      ],
      "execution_count": 11,
      "outputs": [
        {
          "output_type": "stream",
          "name": "stdout",
          "text": [
            "Epoch 1/10\n",
            "1563/1563 [==============================] - 65s 41ms/step - loss: 1.4691 - accuracy: 0.4720\n",
            "Epoch 2/10\n",
            "1563/1563 [==============================] - 66s 43ms/step - loss: 1.1011 - accuracy: 0.6158\n",
            "Epoch 3/10\n",
            "1563/1563 [==============================] - 66s 42ms/step - loss: 0.9656 - accuracy: 0.6637\n",
            "Epoch 4/10\n",
            "1563/1563 [==============================] - 67s 43ms/step - loss: 0.8838 - accuracy: 0.6932\n",
            "Epoch 5/10\n",
            "1563/1563 [==============================] - 68s 43ms/step - loss: 0.8170 - accuracy: 0.7166\n",
            "Epoch 6/10\n",
            "1563/1563 [==============================] - 68s 43ms/step - loss: 0.7566 - accuracy: 0.7358\n",
            "Epoch 7/10\n",
            "1563/1563 [==============================] - 68s 44ms/step - loss: 0.7120 - accuracy: 0.7526\n",
            "Epoch 8/10\n",
            "1563/1563 [==============================] - 69s 44ms/step - loss: 0.6720 - accuracy: 0.7651\n",
            "Epoch 9/10\n",
            "1563/1563 [==============================] - 69s 44ms/step - loss: 0.6274 - accuracy: 0.7822\n",
            "Epoch 10/10\n",
            "1563/1563 [==============================] - 69s 44ms/step - loss: 0.5965 - accuracy: 0.7917\n"
          ]
        },
        {
          "output_type": "execute_result",
          "data": {
            "text/plain": [
              "<keras.callbacks.History at 0x7f989adf0a90>"
            ]
          },
          "metadata": {},
          "execution_count": 11
        }
      ]
    },
    {
      "cell_type": "markdown",
      "metadata": {
        "id": "bH3Ey8yxQGFu"
      },
      "source": [
        "Model evaluation"
      ]
    },
    {
      "cell_type": "code",
      "metadata": {
        "colab": {
          "base_uri": "https://localhost:8080/"
        },
        "id": "J33YHV-30yn_",
        "outputId": "35311583-b7e3-4367-9d7c-c0729b69e038"
      },
      "source": [
        "model_cnn.evaluate(x_test,y_test)"
      ],
      "execution_count": 12,
      "outputs": [
        {
          "output_type": "stream",
          "name": "stdout",
          "text": [
            "313/313 [==============================] - 4s 13ms/step - loss: 0.9227 - accuracy: 0.6990\n"
          ]
        },
        {
          "output_type": "execute_result",
          "data": {
            "text/plain": [
              "[0.9227417707443237, 0.6990000009536743]"
            ]
          },
          "metadata": {},
          "execution_count": 12
        }
      ]
    },
    {
      "cell_type": "markdown",
      "metadata": {
        "id": "U6C12BsN09gH"
      },
      "source": [
        "Second optimizer"
      ]
    },
    {
      "cell_type": "code",
      "metadata": {
        "id": "JjAkyYug079w"
      },
      "source": [
        "model_cnn.compile(optimizer='adam',\n",
        "              loss='sparse_categorical_crossentropy',\n",
        "              metrics=['accuracy'])"
      ],
      "execution_count": 13,
      "outputs": []
    },
    {
      "cell_type": "markdown",
      "metadata": {
        "id": "9LMcTm373L_J"
      },
      "source": [
        "Model training"
      ]
    },
    {
      "cell_type": "code",
      "metadata": {
        "colab": {
          "base_uri": "https://localhost:8080/"
        },
        "id": "iSpnphH526JF",
        "outputId": "7c22cecf-5ef5-495f-ce8d-32e157bece59"
      },
      "source": [
        "model_cnn.fit(x_train, y_train, epochs=10)"
      ],
      "execution_count": 14,
      "outputs": [
        {
          "output_type": "stream",
          "name": "stdout",
          "text": [
            "Epoch 1/10\n",
            "1563/1563 [==============================] - 65s 41ms/step - loss: 0.5645 - accuracy: 0.8026\n",
            "Epoch 2/10\n",
            "1563/1563 [==============================] - 65s 41ms/step - loss: 0.5291 - accuracy: 0.8140\n",
            "Epoch 3/10\n",
            "1563/1563 [==============================] - 66s 42ms/step - loss: 0.5022 - accuracy: 0.8217\n",
            "Epoch 4/10\n",
            "1563/1563 [==============================] - 66s 42ms/step - loss: 0.4695 - accuracy: 0.8334\n",
            "Epoch 5/10\n",
            "1563/1563 [==============================] - 66s 42ms/step - loss: 0.4458 - accuracy: 0.8428\n",
            "Epoch 6/10\n",
            "1563/1563 [==============================] - 65s 42ms/step - loss: 0.4128 - accuracy: 0.8531\n",
            "Epoch 7/10\n",
            "1563/1563 [==============================] - 65s 42ms/step - loss: 0.3953 - accuracy: 0.8592\n",
            "Epoch 8/10\n",
            "1563/1563 [==============================] - 65s 41ms/step - loss: 0.3687 - accuracy: 0.8687\n",
            "Epoch 9/10\n",
            "1563/1563 [==============================] - 67s 43ms/step - loss: 0.3506 - accuracy: 0.8734\n",
            "Epoch 10/10\n",
            "1563/1563 [==============================] - 66s 42ms/step - loss: 0.3264 - accuracy: 0.8821\n"
          ]
        },
        {
          "output_type": "execute_result",
          "data": {
            "text/plain": [
              "<keras.callbacks.History at 0x7f989ad1c610>"
            ]
          },
          "metadata": {},
          "execution_count": 14
        }
      ]
    },
    {
      "cell_type": "markdown",
      "metadata": {
        "id": "A07tSE8O3PGa"
      },
      "source": [
        "Model evaluation"
      ]
    },
    {
      "cell_type": "code",
      "metadata": {
        "colab": {
          "base_uri": "https://localhost:8080/"
        },
        "id": "9kA2Ol9T3YUn",
        "outputId": "3f38888e-673d-473c-937c-4413d1d84749"
      },
      "source": [
        "model_cnn.evaluate(x_test,y_test)"
      ],
      "execution_count": 15,
      "outputs": [
        {
          "output_type": "stream",
          "name": "stdout",
          "text": [
            "313/313 [==============================] - 4s 12ms/step - loss: 1.2858 - accuracy: 0.6809\n"
          ]
        },
        {
          "output_type": "execute_result",
          "data": {
            "text/plain": [
              "[1.2857904434204102, 0.680899977684021]"
            ]
          },
          "metadata": {},
          "execution_count": 15
        }
      ]
    },
    {
      "cell_type": "markdown",
      "metadata": {
        "id": "IsvBJQJVC4j3"
      },
      "source": [
        "CNN With filter size 64 & 128"
      ]
    },
    {
      "cell_type": "markdown",
      "metadata": {
        "id": "qURmSgEjQ3qO"
      },
      "source": [
        "Here, the CNN intial filter size is replaced with 64 and the second filter with 128"
      ]
    },
    {
      "cell_type": "code",
      "metadata": {
        "id": "jCbhkc4iDEh7"
      },
      "source": [
        "model0_cnn = models.Sequential([\n",
        "        #cnn\n",
        "        layers.Conv2D(filters=64, kernel_size=(3,3), activation='relu', input_shape=(32,32,3)),\n",
        "        layers.MaxPool2D((2,2)),\n",
        "\n",
        "        layers.Conv2D(filters=128, kernel_size=(3,3), activation='relu'),\n",
        "        layers.MaxPool2D((2,2)),\n",
        "\n",
        "        #Dense\n",
        "\n",
        "        layers.Flatten(),\n",
        "        layers.Dense(64, activation='relu'),\n",
        "        layers.Dense(10, activation='softmax')             \n",
        "])"
      ],
      "execution_count": 16,
      "outputs": []
    },
    {
      "cell_type": "markdown",
      "metadata": {
        "id": "cSwfH_r8RGjs"
      },
      "source": [
        "Optimization with Adam"
      ]
    },
    {
      "cell_type": "code",
      "metadata": {
        "id": "OVUxETfyDZPQ"
      },
      "source": [
        "model0_cnn.compile(optimizer='adam',\n",
        "              loss='sparse_categorical_crossentropy',\n",
        "              metrics=['accuracy'])"
      ],
      "execution_count": 17,
      "outputs": []
    },
    {
      "cell_type": "markdown",
      "metadata": {
        "id": "odk0DjLJRLcZ"
      },
      "source": [
        "Model training"
      ]
    },
    {
      "cell_type": "code",
      "metadata": {
        "colab": {
          "base_uri": "https://localhost:8080/"
        },
        "id": "cEXwfuSJDjJw",
        "outputId": "e766643b-8366-4a1a-bb19-37be9ea66c39"
      },
      "source": [
        "model0_cnn.fit(x_train, y_train, epochs=20)"
      ],
      "execution_count": 18,
      "outputs": [
        {
          "output_type": "stream",
          "name": "stdout",
          "text": [
            "Epoch 1/20\n",
            "1563/1563 [==============================] - 150s 95ms/step - loss: 1.4287 - accuracy: 0.4876\n",
            "Epoch 2/20\n",
            "1563/1563 [==============================] - 148s 95ms/step - loss: 1.0706 - accuracy: 0.6227\n",
            "Epoch 3/20\n",
            "1563/1563 [==============================] - 149s 95ms/step - loss: 0.9311 - accuracy: 0.6786\n",
            "Epoch 4/20\n",
            "1563/1563 [==============================] - 148s 94ms/step - loss: 0.8367 - accuracy: 0.7092\n",
            "Epoch 5/20\n",
            "1563/1563 [==============================] - 148s 95ms/step - loss: 0.7596 - accuracy: 0.7367\n",
            "Epoch 6/20\n",
            "1563/1563 [==============================] - 148s 94ms/step - loss: 0.6970 - accuracy: 0.7568\n",
            "Epoch 7/20\n",
            "1563/1563 [==============================] - 147s 94ms/step - loss: 0.6415 - accuracy: 0.7754\n",
            "Epoch 8/20\n",
            "1563/1563 [==============================] - 147s 94ms/step - loss: 0.5931 - accuracy: 0.7922\n",
            "Epoch 9/20\n",
            "1563/1563 [==============================] - 147s 94ms/step - loss: 0.5448 - accuracy: 0.8099\n",
            "Epoch 10/20\n",
            "1563/1563 [==============================] - 149s 95ms/step - loss: 0.5027 - accuracy: 0.8225\n",
            "Epoch 11/20\n",
            "1563/1563 [==============================] - 148s 95ms/step - loss: 0.4610 - accuracy: 0.8380\n",
            "Epoch 12/20\n",
            "1563/1563 [==============================] - 148s 95ms/step - loss: 0.4222 - accuracy: 0.8502\n",
            "Epoch 13/20\n",
            "1563/1563 [==============================] - 148s 95ms/step - loss: 0.3890 - accuracy: 0.8622\n",
            "Epoch 14/20\n",
            "1563/1563 [==============================] - 148s 95ms/step - loss: 0.3526 - accuracy: 0.8755\n",
            "Epoch 15/20\n",
            "1563/1563 [==============================] - 147s 94ms/step - loss: 0.3265 - accuracy: 0.8842\n",
            "Epoch 16/20\n",
            "1563/1563 [==============================] - 147s 94ms/step - loss: 0.2979 - accuracy: 0.8935\n",
            "Epoch 17/20\n",
            "1563/1563 [==============================] - 149s 95ms/step - loss: 0.2706 - accuracy: 0.9025\n",
            "Epoch 18/20\n",
            "1563/1563 [==============================] - 148s 95ms/step - loss: 0.2411 - accuracy: 0.9141\n",
            "Epoch 19/20\n",
            "1563/1563 [==============================] - 148s 95ms/step - loss: 0.2296 - accuracy: 0.9168\n",
            "Epoch 20/20\n",
            "1563/1563 [==============================] - 149s 95ms/step - loss: 0.2094 - accuracy: 0.9247\n"
          ]
        },
        {
          "output_type": "execute_result",
          "data": {
            "text/plain": [
              "<keras.callbacks.History at 0x7f989ab5c7d0>"
            ]
          },
          "metadata": {},
          "execution_count": 18
        }
      ]
    },
    {
      "cell_type": "markdown",
      "metadata": {
        "id": "SDjNcTtPRQ3O"
      },
      "source": [
        "Model evaluation"
      ]
    },
    {
      "cell_type": "code",
      "metadata": {
        "colab": {
          "base_uri": "https://localhost:8080/"
        },
        "id": "BFo2iLAmIvNu",
        "outputId": "cb169517-a7dd-44e9-fba6-a35c2b84dda2"
      },
      "source": [
        "model0_cnn.evaluate(x_test,y_test)"
      ],
      "execution_count": 19,
      "outputs": [
        {
          "output_type": "stream",
          "name": "stdout",
          "text": [
            "313/313 [==============================] - 8s 25ms/step - loss: 1.5816 - accuracy: 0.6835\n"
          ]
        },
        {
          "output_type": "execute_result",
          "data": {
            "text/plain": [
              "[1.5815633535385132, 0.6834999918937683]"
            ]
          },
          "metadata": {},
          "execution_count": 19
        }
      ]
    },
    {
      "cell_type": "markdown",
      "metadata": {
        "id": "iw9qaHa-RYau"
      },
      "source": [
        "*CNN* with 256 filters"
      ]
    },
    {
      "cell_type": "code",
      "metadata": {
        "id": "GFHsO6skRWwe"
      },
      "source": [
        "modelmax_cnn = models.Sequential([\n",
        "        #cnn\n",
        "        layers.Conv2D(filters=256, kernel_size=(3,3), activation='relu', input_shape=(32,32,3)),\n",
        "        layers.MaxPool2D((2,2)),\n",
        "\n",
        "        layers.Conv2D(filters=64, kernel_size=(3,3), activation='relu'),\n",
        "        layers.MaxPool2D((2,2)),\n",
        "\n",
        "        #Dense\n",
        "\n",
        "        layers.Flatten(),\n",
        "        layers.Dense(64, activation='relu'),\n",
        "        layers.Dense(10, activation='softmax')             \n",
        "])"
      ],
      "execution_count": 20,
      "outputs": []
    },
    {
      "cell_type": "markdown",
      "metadata": {
        "id": "4gvEcfsHVKCs"
      },
      "source": [
        "Model optimization"
      ]
    },
    {
      "cell_type": "code",
      "metadata": {
        "id": "cdS0iF8oRzuQ"
      },
      "source": [
        "modelmax_cnn.compile(optimizer='adam',\n",
        "              loss='sparse_categorical_crossentropy',\n",
        "              metrics=['accuracy'])"
      ],
      "execution_count": 21,
      "outputs": []
    },
    {
      "cell_type": "markdown",
      "metadata": {
        "id": "-nCjae2QVOOH"
      },
      "source": [
        "Model Training"
      ]
    },
    {
      "cell_type": "code",
      "metadata": {
        "colab": {
          "base_uri": "https://localhost:8080/"
        },
        "id": "K3OgYYT3R89g",
        "outputId": "8f0b8567-9d4d-4eb2-e1a3-80e29a87185a"
      },
      "source": [
        "modelmax_cnn.fit(x_train, y_train, epochs=10)"
      ],
      "execution_count": 22,
      "outputs": [
        {
          "output_type": "stream",
          "name": "stdout",
          "text": [
            "Epoch 1/10\n",
            "1563/1563 [==============================] - 350s 224ms/step - loss: 1.5667 - accuracy: 0.4354\n",
            "Epoch 2/10\n",
            "1563/1563 [==============================] - 350s 224ms/step - loss: 1.2257 - accuracy: 0.5649\n",
            "Epoch 3/10\n",
            "1563/1563 [==============================] - 347s 222ms/step - loss: 1.0955 - accuracy: 0.6159\n",
            "Epoch 4/10\n",
            "1563/1563 [==============================] - 347s 222ms/step - loss: 1.0171 - accuracy: 0.6412\n",
            "Epoch 5/10\n",
            "1563/1563 [==============================] - 344s 220ms/step - loss: 0.9612 - accuracy: 0.6623\n",
            "Epoch 6/10\n",
            "1563/1563 [==============================] - 343s 219ms/step - loss: 0.9201 - accuracy: 0.6781\n",
            "Epoch 7/10\n",
            "1563/1563 [==============================] - 341s 218ms/step - loss: 0.8886 - accuracy: 0.6883\n",
            "Epoch 8/10\n",
            "1563/1563 [==============================] - 345s 221ms/step - loss: 0.8557 - accuracy: 0.6985\n",
            "Epoch 9/10\n",
            "1563/1563 [==============================] - 342s 219ms/step - loss: 0.8320 - accuracy: 0.7078\n",
            "Epoch 10/10\n",
            "1563/1563 [==============================] - 343s 219ms/step - loss: 0.8082 - accuracy: 0.7147\n"
          ]
        },
        {
          "output_type": "execute_result",
          "data": {
            "text/plain": [
              "<keras.callbacks.History at 0x7f989a9df350>"
            ]
          },
          "metadata": {},
          "execution_count": 22
        }
      ]
    },
    {
      "cell_type": "markdown",
      "metadata": {
        "id": "QHwXDxMDVTdj"
      },
      "source": [
        "Model evaluation"
      ]
    },
    {
      "cell_type": "code",
      "metadata": {
        "colab": {
          "base_uri": "https://localhost:8080/"
        },
        "id": "8i9qvGO8Ujdm",
        "outputId": "58de2555-fa08-496f-83bf-abf3e9eb14f9"
      },
      "source": [
        "modelmax_cnn.evaluate(x_test,y_test)"
      ],
      "execution_count": 23,
      "outputs": [
        {
          "output_type": "stream",
          "name": "stdout",
          "text": [
            "313/313 [==============================] - 18s 56ms/step - loss: 0.9592 - accuracy: 0.6734\n"
          ]
        },
        {
          "output_type": "execute_result",
          "data": {
            "text/plain": [
              "[0.9591854214668274, 0.6733999848365784]"
            ]
          },
          "metadata": {},
          "execution_count": 23
        }
      ]
    }
  ]
}